{
 "cells": [
  {
   "cell_type": "code",
   "execution_count": 16,
   "outputs": [],
   "source": [
    "import sys\n",
    "sys.path.insert(0, '../.')\n",
    "\n",
    "%load_ext autoreload\n",
    "%autoreload 2\n",
    "\n",
    "!poetry run python -m spacy download en_core_web_sm ;"
   ],
   "metadata": {
    "collapsed": false,
    "pycharm": {
     "name": "#%%\n"
    }
   }
  },
  {
   "cell_type": "code",
   "execution_count": null,
   "outputs": [],
   "source": [
    "import spacy\n",
    "from src import html_utils"
   ],
   "metadata": {
    "collapsed": false,
    "pycharm": {
     "name": "#%%\n"
    }
   }
  },
  {
   "cell_type": "code",
   "execution_count": 35,
   "outputs": [
    {
     "name": "stdout",
     "output_type": "stream",
     "text": [
      "Entities: ['Leonardo Da Vinci', 'monna lisa']\n",
      "Spans iteration: ['Leonardo Da Vinci', 'painted', 'the', 'monna lisa', '.']\n"
     ]
    }
   ],
   "source": [
    "# with spacy-richtext-utils\n",
    "\n",
    "nlp = spacy.load(\"en_core_web_sm\")\n",
    "html_utils(nlp)\n",
    "doc = nlp(\"Leonardo Da Vinci painted the <i>monna lisa</i>.\")\n",
    "\n",
    "print('Entities:', [ent.text for ent in doc.ents])\n",
    "print('Spans iteration:', [span.text for span in doc._.spans])"
   ],
   "metadata": {
    "collapsed": false,
    "pycharm": {
     "name": "#%%\n"
    }
   }
  },
  {
   "cell_type": "code",
   "execution_count": 37,
   "outputs": [
    {
     "name": "stdout",
     "output_type": "stream",
     "text": [
      "Entities: ['Leonardo Da Vinci']\n"
     ]
    }
   ],
   "source": [
    "# without spacy-richtext-utils\n",
    "\n",
    "nlp_bis = spacy.load(\"en_core_web_sm\")\n",
    "doc_bis = nlp_bis(\"Leonardo Da Vinci painted the <i>monna lisa</i>.\")\n",
    "\n",
    "print('Entities:', [ent.text for ent in doc_bis.ents])"
   ],
   "metadata": {
    "collapsed": false,
    "pycharm": {
     "name": "#%%\n"
    }
   }
  },
  {
   "cell_type": "code",
   "execution_count": null,
   "outputs": [],
   "source": [],
   "metadata": {
    "collapsed": false,
    "pycharm": {
     "name": "#%%\n"
    }
   }
  }
 ],
 "metadata": {
  "kernelspec": {
   "display_name": "Python 3",
   "language": "python",
   "name": "python3"
  },
  "language_info": {
   "codemirror_mode": {
    "name": "ipython",
    "version": 2
   },
   "file_extension": ".py",
   "mimetype": "text/x-python",
   "name": "python",
   "nbconvert_exporter": "python",
   "pygments_lexer": "ipython2",
   "version": "2.7.6"
  }
 },
 "nbformat": 4,
 "nbformat_minor": 0
}